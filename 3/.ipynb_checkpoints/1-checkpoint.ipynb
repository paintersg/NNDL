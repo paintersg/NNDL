{
 "cells": [
  {
   "cell_type": "markdown",
   "metadata": {},
   "source": [
    "# Assignment 3\n",
    "Jiaxu Shao  \n",
    "Dec 03 2019  "
   ]
  },
  {
   "cell_type": "markdown",
   "metadata": {},
   "source": [
    "## 1 Autoencoder"
   ]
  },
  {
   "cell_type": "code",
   "execution_count": 141,
   "metadata": {},
   "outputs": [],
   "source": [
    "from keras.layers import Input,Dense,Conv2D,MaxPooling2D,UpSampling2D,Dropout,Flatten,Embedding,LSTM,Conv1D,AveragePooling1D,BatchNormalization\n",
    "from keras.models import Model, Sequential\n",
    "from keras.applications import VGG16\n",
    "from keras import backend as K\n",
    "from keras.datasets import mnist\n",
    "from keras.utils import np_utils\n",
    "from keras.preprocessing.text import Tokenizer\n",
    "from keras.preprocessing.sequence import pad_sequences\n",
    "import matplotlib.pyplot as plt\n",
    "import numpy as np\n",
    "import pandas as pd\n",
    "import tensorflow as tf\n",
    "%matplotlib inline"
   ]
  },
  {
   "cell_type": "code",
   "execution_count": 2,
   "metadata": {},
   "outputs": [
    {
     "name": "stdout",
     "output_type": "stream",
     "text": [
      "(60000, 28, 28, 1)\n"
     ]
    }
   ],
   "source": [
    "(x_train, y_train), (x_test, y_test) = mnist.load_data()\n",
    "x_train = x_train.astype('float32') / 255.\n",
    "x_test = x_test.astype('float32') / 255.\n",
    "x_train = x_train.reshape(x_train.shape[0], 28, 28,1)\n",
    "x_test = x_test.reshape(x_test.shape[0], 28, 28,1)\n",
    "print(x_train.shape)"
   ]
  },
  {
   "cell_type": "code",
   "execution_count": 3,
   "metadata": {},
   "outputs": [],
   "source": [
    "autoenc = Sequential()\n",
    "autoenc.add(Conv2D(filters = 16, kernel_size=(3, 3), activation='relu', strides=(1, 1), padding='same', input_shape=(28,28,1))) # 28*28*16\n",
    "autoenc.add(MaxPooling2D(pool_size=(2,2))) # 14*14*16\n",
    "autoenc.add(Conv2D(filters = 8, kernel_size=(3, 3), activation='relu', strides=(1, 1), padding='same')) # 14*14*8\n",
    "autoenc.add(MaxPooling2D(pool_size=(2,2))) # 7*7*8\n",
    "autoenc.add(Conv2D(filters = 4, kernel_size=(3, 3), activation='relu', strides=(1, 1), padding='same')) # 7*7*4\n",
    "\n",
    "autoenc.add(Conv2D(filters = 8, kernel_size=(3, 3), activation='relu', strides=(1, 1), padding='same')) # 7*7*8\n",
    "autoenc.add(UpSampling2D((2,2))) # 14*14*8\n",
    "autoenc.add(Conv2D(filters = 16, kernel_size=(3, 3), activation='relu', strides=(1, 1), padding='same')) # 14*14*16\n",
    "autoenc.add(UpSampling2D((2,2))) # 28*28*16\n",
    "autoenc.add(Conv2D(filters = 1, kernel_size=(3, 3), activation='relu', strides=(1, 1), padding='same')) # 28*28*1\n",
    "\n",
    "autoenc.compile(optimizer='adadelta', loss='binary_crossentropy')"
   ]
  },
  {
   "cell_type": "code",
   "execution_count": 4,
   "metadata": {},
   "outputs": [
    {
     "name": "stdout",
     "output_type": "stream",
     "text": [
      "Train on 60000 samples, validate on 10000 samples\n",
      "Epoch 1/10\n",
      "60000/60000 [==============================] - 80s 1ms/step - loss: 0.1850 - val_loss: 0.1384\n",
      "Epoch 2/10\n",
      "60000/60000 [==============================] - 89s 1ms/step - loss: 0.1327 - val_loss: 0.1209\n",
      "Epoch 3/10\n",
      "60000/60000 [==============================] - 86s 1ms/step - loss: 0.1213 - val_loss: 0.1141\n",
      "Epoch 4/10\n",
      "60000/60000 [==============================] - 86s 1ms/step - loss: 0.1163 - val_loss: 0.1079\n",
      "Epoch 5/10\n",
      "60000/60000 [==============================] - 83s 1ms/step - loss: 0.1101 - val_loss: 0.1043\n",
      "Epoch 6/10\n",
      "60000/60000 [==============================] - 84s 1ms/step - loss: 0.1074 - val_loss: 0.1036\n",
      "Epoch 7/10\n",
      "60000/60000 [==============================] - 79s 1ms/step - loss: 0.1063 - val_loss: 0.1015\n",
      "Epoch 8/10\n",
      "60000/60000 [==============================] - 79s 1ms/step - loss: 0.1061 - val_loss: 0.1007\n",
      "Epoch 9/10\n",
      "60000/60000 [==============================] - 79s 1ms/step - loss: 0.1038 - val_loss: 0.1010\n",
      "Epoch 10/10\n",
      "60000/60000 [==============================] - 79s 1ms/step - loss: 0.1031 - val_loss: 0.0977\n"
     ]
    },
    {
     "data": {
      "text/plain": [
       "<keras.callbacks.callbacks.History at 0x22eacc7a4e0>"
      ]
     },
     "execution_count": 4,
     "metadata": {},
     "output_type": "execute_result"
    }
   ],
   "source": [
    "autoenc.fit(x_train, x_train,\n",
    "                epochs=10,\n",
    "                batch_size=128,\n",
    "                shuffle=True,\n",
    "                validation_data=(x_test, x_test))"
   ]
  },
  {
   "cell_type": "code",
   "execution_count": 5,
   "metadata": {},
   "outputs": [
    {
     "data": {
      "image/png": "[encoded data removed]",
      "text/plain": [
       "<matplotlib.figure.Figure at 0x22eacd71d30>"
      ]
     },
     "metadata": {},
     "output_type": "display_data"
    }
   ],
   "source": [
    "n=5\n",
    "for k in range(n):\n",
    "    ax = plt.subplot(2, n, k+1)\n",
    "    plt.imshow(x_test[k:k+1,:].reshape((28,28)))\n",
    "    ax = plt.subplot(2, n, k+1 + n)\n",
    "    reconstruction = autoenc.predict(x_test[k:k+1,:])\n",
    "    reconstruction.resize((28,28))\n",
    "    plt.imshow(reconstruction)"
   ]
  },
  {
   "cell_type": "markdown",
   "metadata": {},
   "source": [
    "## 2 Image Classification\n",
    "### 2.1 Deep CNN\n",
    "brief description of the architecture:  \n",
    "kernel size: 3\\*3  \n",
    "strides: 1\\*1  \n",
    "padding: same  \n",
    "network depth: Conv2D \\* 2, MaxPooling2D \\* 2, Dense \\* 2, Flatten \\* 1 "
   ]
  },
  {
   "cell_type": "code",
   "execution_count": 6,
   "metadata": {},
   "outputs": [],
   "source": [
    "x_train1 = x_train\n",
    "x_test1 = x_test\n",
    "y_train1 = np_utils.to_categorical(y_train, 10)\n",
    "y_test1 = np_utils.to_categorical(y_test, 10)"
   ]
  },
  {
   "cell_type": "code",
   "execution_count": 7,
   "metadata": {},
   "outputs": [],
   "source": [
    "model1 = Sequential()\n",
    "model1.add(Conv2D(filters = 32,kernel_size=(3, 3), \n",
    "                 activation='relu', strides=(1, 1), \n",
    "                 padding='same',\n",
    "                 input_shape=(28,28,1)))\n",
    "model1.add(MaxPooling2D(pool_size=(2,2)))\n",
    "model1.add(Conv2D(filters = 32,kernel_size=(3, 3), \n",
    "                 activation='relu', strides=(1, 1), \n",
    "                 padding='same'))\n",
    "model1.add(MaxPooling2D(pool_size=(2,2)))\n",
    "model1.add(Dropout(0.25))\n",
    "model1.add(Flatten())\n",
    "model1.add(Dense(64, activation='relu'))\n",
    "model1.add(Dropout(0.5))\n",
    "model1.add(Dense(10, activation='softmax'))"
   ]
  },
  {
   "cell_type": "code",
   "execution_count": 8,
   "metadata": {},
   "outputs": [],
   "source": [
    "model1.compile(loss='categorical_crossentropy', optimizer='adam', metrics=['accuracy'])"
   ]
  },
  {
   "cell_type": "code",
   "execution_count": 9,
   "metadata": {},
   "outputs": [
    {
     "name": "stdout",
     "output_type": "stream",
     "text": [
      "Train on 60000 samples, validate on 10000 samples\n",
      "Epoch 1/10\n",
      "60000/60000 [==============================] - 45s 751us/step - loss: 0.4787 - accuracy: 0.8488 - val_loss: 0.0875 - val_accuracy: 0.9721\n",
      "Epoch 2/10\n",
      "60000/60000 [==============================] - 45s 751us/step - loss: 0.1722 - accuracy: 0.9505 - val_loss: 0.0571 - val_accuracy: 0.9821\n",
      "Epoch 3/10\n",
      "60000/60000 [==============================] - 45s 748us/step - loss: 0.1298 - accuracy: 0.9618 - val_loss: 0.0428 - val_accuracy: 0.9842\n",
      "Epoch 4/10\n",
      "60000/60000 [==============================] - 50s 830us/step - loss: 0.1081 - accuracy: 0.9682 - val_loss: 0.0403 - val_accuracy: 0.9873\n",
      "Epoch 5/10\n",
      "60000/60000 [==============================] - 49s 809us/step - loss: 0.0943 - accuracy: 0.9724 - val_loss: 0.0348 - val_accuracy: 0.9889\n",
      "Epoch 6/10\n",
      "60000/60000 [==============================] - 45s 748us/step - loss: 0.0861 - accuracy: 0.9737 - val_loss: 0.0336 - val_accuracy: 0.9879\n",
      "Epoch 7/10\n",
      "60000/60000 [==============================] - 46s 758us/step - loss: 0.0811 - accuracy: 0.9763 - val_loss: 0.0304 - val_accuracy: 0.9895\n",
      "Epoch 8/10\n",
      "60000/60000 [==============================] - 45s 747us/step - loss: 0.0740 - accuracy: 0.9779 - val_loss: 0.0306 - val_accuracy: 0.9899\n",
      "Epoch 9/10\n",
      "60000/60000 [==============================] - 45s 747us/step - loss: 0.0700 - accuracy: 0.9790 - val_loss: 0.0297 - val_accuracy: 0.9899\n",
      "Epoch 10/10\n",
      "60000/60000 [==============================] - 46s 773us/step - loss: 0.0640 - accuracy: 0.9807 - val_loss: 0.0292 - val_accuracy: 0.9902\n"
     ]
    }
   ],
   "source": [
    "model_training1 = model1.fit(x_train1, y_train1, epochs=10, batch_size=128, validation_data=(x_test1, y_test1))"
   ]
  },
  {
   "cell_type": "markdown",
   "metadata": {},
   "source": [
    "The accuracy on training data is 0.9807.  \n",
    "Since I use (x_test,y_test) as validation data, the accuracy on test set is val_accuracy which is 0.9902"
   ]
  },
  {
   "cell_type": "markdown",
   "metadata": {},
   "source": [
    "### 2.2 Transfer Learning\n",
    "\n",
    "using VGG16"
   ]
  },
  {
   "cell_type": "code",
   "execution_count": 10,
   "metadata": {},
   "outputs": [
    {
     "name": "stdout",
     "output_type": "stream",
     "text": [
      "(60000, 32, 32, 3)\n"
     ]
    }
   ],
   "source": [
    "x_train2 = np.pad(x_train1, ((0,0),(2,2),(2,2),(1,1)), mode='edge')\n",
    "x_test2 = np.pad(x_test1, ((0,0),(2,2),(2,2),(1,1)), mode='edge')\n",
    "y_train2 = y_train1\n",
    "y_test2 = y_test1\n",
    "# x_train1 = np.concatenate((x_train1,x_train1,x_train1), axis=3)\n",
    "# x_test1 = np.concatenate((x_test1,x_test1,x_test1), axis=3)\n",
    "print(x_train2.shape)"
   ]
  },
  {
   "cell_type": "code",
   "execution_count": 14,
   "metadata": {},
   "outputs": [
    {
     "data": {
      "text/plain": [
       "[<tf.Variable 'dense_5/kernel:0' shape=(512, 32) dtype=float32, numpy=\n",
       " array([[ 0.04050245,  0.02085317,  0.0712216 , ...,  0.01466334,\n",
       "         -0.0076369 , -0.0723961 ],\n",
       "        [-0.04993552, -0.08112034,  0.05038936, ..., -0.07134934,\n",
       "          0.0532346 ,  0.09541684],\n",
       "        [-0.01346933, -0.03330309, -0.01269698, ..., -0.00281553,\n",
       "          0.1025783 ,  0.09835709],\n",
       "        ...,\n",
       "        [ 0.02212834, -0.04072464,  0.05763998, ...,  0.07427437,\n",
       "         -0.031605  ,  0.03199603],\n",
       "        [-0.01785473, -0.04907483, -0.03742032, ...,  0.04311376,\n",
       "         -0.053666  ,  0.04043897],\n",
       "        [ 0.02368944,  0.06692863, -0.09664069, ..., -0.05502912,\n",
       "         -0.09551149, -0.07834537]], dtype=float32)>,\n",
       " <tf.Variable 'dense_5/bias:0' shape=(32,) dtype=float32, numpy=\n",
       " array([0., 0., 0., 0., 0., 0., 0., 0., 0., 0., 0., 0., 0., 0., 0., 0., 0.,\n",
       "        0., 0., 0., 0., 0., 0., 0., 0., 0., 0., 0., 0., 0., 0., 0.],\n",
       "       dtype=float32)>,\n",
       " <tf.Variable 'dense_6/kernel:0' shape=(32, 10) dtype=float32, numpy=\n",
       " array([[ 0.12528351,  0.24863377,  0.33799097, -0.08956793, -0.16351978,\n",
       "         -0.25499758, -0.15046185,  0.35444722, -0.33673716,  0.11700991],\n",
       "        [-0.02089369, -0.35355365, -0.12756267, -0.145191  ,  0.20641646,\n",
       "         -0.30369568,  0.27813652,  0.03692943, -0.11968279,  0.01622373],\n",
       "        [ 0.2484664 , -0.18889041, -0.14322616,  0.28649828,  0.30023327,\n",
       "          0.12681428,  0.01804599, -0.26737046, -0.02048728, -0.02874213],\n",
       "        [ 0.14445451,  0.10652527, -0.22893606, -0.24097769,  0.04812911,\n",
       "         -0.04673147, -0.04635164, -0.00417766,  0.05575618, -0.12541166],\n",
       "        [-0.19657089,  0.24260297, -0.3622562 , -0.30655652,  0.35205886,\n",
       "          0.33430168, -0.05621189, -0.2790766 ,  0.35457042, -0.00366727],\n",
       "        [-0.10344672,  0.08969057, -0.05358228,  0.11305392, -0.25483456,\n",
       "         -0.3449602 , -0.33636788, -0.31875   , -0.13326877,  0.36891332],\n",
       "        [ 0.23404983,  0.05376494,  0.20213053, -0.04978451,  0.15022817,\n",
       "          0.3771102 , -0.16286007,  0.25048646, -0.11644471, -0.1916989 ],\n",
       "        [-0.3299779 ,  0.03251025,  0.16970375, -0.12819663, -0.0134165 ,\n",
       "          0.02260458, -0.21087565,  0.2970014 , -0.20229293,  0.30421916],\n",
       "        [-0.15706746,  0.3305104 , -0.26025915,  0.30570737,  0.13447061,\n",
       "          0.14371547,  0.00180462,  0.04135475, -0.16686408, -0.31573427],\n",
       "        [ 0.0823372 ,  0.03451881, -0.19080442,  0.23963293,  0.33651802,\n",
       "          0.27073404, -0.13429193, -0.10916406,  0.13924173, -0.18853554],\n",
       "        [ 0.21044663,  0.27245948, -0.18257794,  0.1101073 ,  0.0633553 ,\n",
       "         -0.2722422 ,  0.13540086, -0.1535258 ,  0.2977434 ,  0.09249771],\n",
       "        [-0.1401467 ,  0.25278333,  0.34286615,  0.2649382 ,  0.10198715,\n",
       "          0.10118631,  0.2663273 ,  0.17383906,  0.02056289, -0.03558052],\n",
       "        [ 0.07405737, -0.35687378, -0.16056919, -0.14409216,  0.3473234 ,\n",
       "         -0.36875194,  0.3419465 , -0.19210729, -0.07876256, -0.31649843],\n",
       "        [-0.00488326, -0.02917442,  0.1937184 ,  0.04448953, -0.3424982 ,\n",
       "         -0.22545838,  0.29786965,  0.07008985,  0.25713488,  0.29448047],\n",
       "        [-0.19043937, -0.07132682, -0.01926965, -0.04740614,  0.23239788,\n",
       "          0.3019034 ,  0.13113895,  0.35165384, -0.36179662, -0.11906505],\n",
       "        [-0.23425719,  0.29800102, -0.1699174 , -0.2575034 , -0.08481595,\n",
       "          0.2863687 ,  0.17335936, -0.24248439, -0.10725337,  0.04311439],\n",
       "        [ 0.13595662, -0.2997087 ,  0.35217127,  0.3326386 , -0.28358382,\n",
       "          0.3371115 , -0.09430566, -0.26323515, -0.26623142, -0.00740114],\n",
       "        [-0.0417414 ,  0.22522041,  0.33016428, -0.20395076,  0.13909778,\n",
       "         -0.09042716, -0.07576954,  0.3059747 ,  0.3650346 ,  0.32260963],\n",
       "        [-0.10561648,  0.00733545, -0.11035556, -0.31595412,  0.10224333,\n",
       "          0.05448952,  0.19793305,  0.27991703, -0.29966554,  0.17035642],\n",
       "        [ 0.35640088, -0.22864075, -0.22301657,  0.14330682,  0.20064303,\n",
       "          0.06022653, -0.21037786,  0.07874545, -0.12524477,  0.15717629],\n",
       "        [-0.08437234, -0.14503267,  0.21051899,  0.25221828, -0.29399422,\n",
       "          0.00690255, -0.2517361 ,  0.08425051,  0.12128654, -0.11261758],\n",
       "        [ 0.17837557,  0.32919815,  0.08643395,  0.31515303,  0.35046813,\n",
       "         -0.11891952,  0.21976528, -0.33539835,  0.15745214, -0.06772301],\n",
       "        [ 0.17717841, -0.32686386, -0.02112961, -0.2017182 ,  0.17828014,\n",
       "          0.35845837,  0.02607089,  0.30190834,  0.30054316, -0.03458405],\n",
       "        [ 0.07575873, -0.30731863,  0.02735034, -0.29142815, -0.32062572,\n",
       "         -0.0492259 , -0.24832034,  0.31867567, -0.29334548,  0.01229015],\n",
       "        [-0.33448863, -0.09457275, -0.32941657,  0.17127767, -0.34407276,\n",
       "          0.20596454, -0.20362248,  0.2634826 ,  0.06612584, -0.22098523],\n",
       "        [ 0.01887757,  0.07572728,  0.34197924, -0.07345119,  0.27035555,\n",
       "         -0.16650607, -0.04280287, -0.33534193, -0.367057  , -0.12302878],\n",
       "        [ 0.36391076,  0.09099984,  0.19880465, -0.0200868 ,  0.21766266,\n",
       "         -0.23260945, -0.07784161,  0.2957776 , -0.03007275, -0.12906587],\n",
       "        [-0.22377145,  0.12985149,  0.3098484 , -0.09548211, -0.31537515,\n",
       "         -0.07513586,  0.22914001, -0.05495858,  0.09326684, -0.19558775],\n",
       "        [-0.17707506,  0.15375379,  0.131031  , -0.03452843, -0.31530505,\n",
       "         -0.02057207, -0.10150403,  0.04967314, -0.21770951,  0.01942816],\n",
       "        [-0.17552824, -0.330225  ,  0.11509869, -0.00724414,  0.236348  ,\n",
       "         -0.02206489, -0.2493287 , -0.05034077, -0.32531622, -0.27698353],\n",
       "        [-0.28385103,  0.30111852,  0.21101376, -0.03329164,  0.367923  ,\n",
       "          0.36304793, -0.23243716,  0.36371598,  0.334538  ,  0.00410539],\n",
       "        [ 0.35844645, -0.16724752, -0.24828285, -0.3769041 , -0.19781491,\n",
       "         -0.35313535, -0.07703328,  0.10526574, -0.06355047,  0.01615235]],\n",
       "       dtype=float32)>,\n",
       " <tf.Variable 'dense_6/bias:0' shape=(10,) dtype=float32, numpy=array([0., 0., 0., 0., 0., 0., 0., 0., 0., 0.], dtype=float32)>]"
      ]
     },
     "execution_count": 14,
     "metadata": {},
     "output_type": "execute_result"
    }
   ],
   "source": [
    "conv_base = VGG16(weights=\"imagenet\",include_top=False,input_shape=(32, 32, 3))\n",
    "\n",
    "model2 = Sequential()\n",
    "model2.add(conv_base)\n",
    "model2.add(Flatten())\n",
    "model2.add(Dense(32, activation=\"relu\"))\n",
    "model2.add(Dropout(0.5))\n",
    "model2.add(Dense(10, activation=\"softmax\"))\n",
    "\n",
    "conv_base.trainable = False\n",
    "\n",
    "model2.trainable_weights"
   ]
  },
  {
   "cell_type": "code",
   "execution_count": 15,
   "metadata": {},
   "outputs": [],
   "source": [
    "model2.compile(loss='categorical_crossentropy', optimizer='adam', metrics=['accuracy'])"
   ]
  },
  {
   "cell_type": "code",
   "execution_count": 16,
   "metadata": {},
   "outputs": [
    {
     "name": "stdout",
     "output_type": "stream",
     "text": [
      "Train on 60000 samples, validate on 10000 samples\n",
      "Epoch 1/10\n",
      "60000/60000 [==============================] - 425s 7ms/step - loss: 1.3033 - accuracy: 0.5610 - val_loss: 0.6094 - val_accuracy: 0.8599\n",
      "Epoch 2/10\n",
      "60000/60000 [==============================] - 418s 7ms/step - loss: 0.7749 - accuracy: 0.7463 - val_loss: 0.3809 - val_accuracy: 0.9033\n",
      "Epoch 3/10\n",
      "60000/60000 [==============================] - 503s 8ms/step - loss: 0.6270 - accuracy: 0.7968 - val_loss: 0.2849 - val_accuracy: 0.9257\n",
      "Epoch 4/10\n",
      "60000/60000 [==============================] - 428s 7ms/step - loss: 0.5430 - accuracy: 0.8255 - val_loss: 0.2465 - val_accuracy: 0.9315\n",
      "Epoch 5/10\n",
      "60000/60000 [==============================] - 410s 7ms/step - loss: 0.4942 - accuracy: 0.8401 - val_loss: 0.2066 - val_accuracy: 0.9413\n",
      "Epoch 6/10\n",
      "60000/60000 [==============================] - 423s 7ms/step - loss: 0.4582 - accuracy: 0.8511 - val_loss: 0.1926 - val_accuracy: 0.9432\n",
      "Epoch 7/10\n",
      "60000/60000 [==============================] - 463s 8ms/step - loss: 0.4304 - accuracy: 0.8608 - val_loss: 0.1741 - val_accuracy: 0.9508\n",
      "Epoch 8/10\n",
      "60000/60000 [==============================] - 448s 7ms/step - loss: 0.4164 - accuracy: 0.8632 - val_loss: 0.1640 - val_accuracy: 0.9508\n",
      "Epoch 9/10\n",
      "60000/60000 [==============================] - 429s 7ms/step - loss: 0.3993 - accuracy: 0.8704 - val_loss: 0.1571 - val_accuracy: 0.9527\n",
      "Epoch 10/10\n",
      "60000/60000 [==============================] - 435s 7ms/step - loss: 0.3864 - accuracy: 0.8727 - val_loss: 0.1496 - val_accuracy: 0.9548\n"
     ]
    }
   ],
   "source": [
    "model_training2 = model2.fit(x_train2, y_train2, epochs=10, batch_size=128, validation_data=(x_test2, y_test2))"
   ]
  },
  {
   "cell_type": "markdown",
   "metadata": {},
   "source": [
    "The accuracy on training data is 0.8727.  \n",
    "Since I use (x_test,y_test) as validation data, the accuracy on test set is val_accuracy which is 0.9548"
   ]
  },
  {
   "cell_type": "markdown",
   "metadata": {},
   "source": [
    "## 3 Text Classification\n",
    "### 3.1 RNN\n",
    "#### LSTM with Categorical CrossEntropy"
   ]
  },
  {
   "cell_type": "code",
   "execution_count": 44,
   "metadata": {},
   "outputs": [],
   "source": [
    "df = pd.read_csv(\"./tweets_with_labels.csv\", sep='\\t', engine='python', index_col=0)\n",
    "\n",
    "tokenizer = Tokenizer(num_words=5000, filters='!\"#$%&()*+,-./:;<=>?@[\\]^_`{|}~', lower=True)\n",
    "tokenizer.fit_on_texts(df['tweet'].values)"
   ]
  },
  {
   "cell_type": "code",
   "execution_count": 73,
   "metadata": {},
   "outputs": [
    {
     "name": "stdout",
     "output_type": "stream",
     "text": [
      "(77946,)\n",
      "(77946, 64)\n"
     ]
    }
   ],
   "source": [
    "sequences = np.array(tokenizer.texts_to_sequences(df['tweet'].values))\n",
    "print(sequences.shape)\n",
    "\n",
    "# ls = [len(s) for s in sequences]\n",
    "\n",
    "# m = 0\n",
    "# for s in sequences:\n",
    "#     for n in s:\n",
    "#         if n > m:\n",
    "#             m = n\n",
    "\n",
    "# print(max(ls), m)\n",
    "\n",
    "max_features = 5000\n",
    "maxlen = 64\n",
    "\n",
    "data = pad_sequences(sequences, maxlen)\n",
    "print(data.shape)"
   ]
  },
  {
   "cell_type": "code",
   "execution_count": 74,
   "metadata": {},
   "outputs": [
    {
     "name": "stdout",
     "output_type": "stream",
     "text": [
      "(77946, 15)\n"
     ]
    }
   ],
   "source": [
    "labels = np.array(df[df.columns[1:]].values)\n",
    "print(labels.shape)"
   ]
  },
  {
   "cell_type": "code",
   "execution_count": 75,
   "metadata": {},
   "outputs": [],
   "source": [
    "x_train = data[:70000]\n",
    "x_test = data[70000:]\n",
    "y_train = labels[:70000]\n",
    "y_test = labels[70000:]"
   ]
  },
  {
   "cell_type": "code",
   "execution_count": 107,
   "metadata": {},
   "outputs": [
    {
     "name": "stdout",
     "output_type": "stream",
     "text": [
      "Model: \"sequential_12\"\n",
      "_________________________________________________________________\n",
      "Layer (type)                 Output Shape              Param #   \n",
      "=================================================================\n",
      "embedding_9 (Embedding)      (None, None, 32)          160000    \n",
      "_________________________________________________________________\n",
      "lstm_10 (LSTM)               (None, 32)                8320      \n",
      "_________________________________________________________________\n",
      "dense_10 (Dense)             (None, 15)                495       \n",
      "=================================================================\n",
      "Total params: 168,815\n",
      "Trainable params: 168,815\n",
      "Non-trainable params: 0\n",
      "_________________________________________________________________\n"
     ]
    }
   ],
   "source": [
    "lstm1 = Sequential()\n",
    "lstm1.add(Embedding(max_features, 32))\n",
    "lstm1.add(LSTM(32))\n",
    "lstm1.add(Dense(15, activation ='softmax'))\n",
    "lstm1.compile(loss='categorical_crossentropy', optimizer='rmsprop', metrics=['accuracy'])\n",
    "lstm1.summary()"
   ]
  },
  {
   "cell_type": "code",
   "execution_count": 108,
   "metadata": {},
   "outputs": [
    {
     "name": "stderr",
     "output_type": "stream",
     "text": [
      "C:\\Users\\SGAFPZ\\AppData\\Roaming\\Python\\Python36\\site-packages\\tensorflow_core\\python\\framework\\indexed_slices.py:424: UserWarning: Converting sparse IndexedSlices to a dense Tensor of unknown shape. This may consume a large amount of memory.\n",
      "  \"Converting sparse IndexedSlices to a dense Tensor of unknown shape. \"\n"
     ]
    },
    {
     "name": "stdout",
     "output_type": "stream",
     "text": [
      "Train on 70000 samples, validate on 7946 samples\n",
      "Epoch 1/15\n",
      "70000/70000 [==============================] - 25s 350us/step - loss: 2.4295 - accuracy: 0.3787 - val_loss: 2.0835 - val_accuracy: 0.5242\n",
      "Epoch 2/15\n",
      "70000/70000 [==============================] - 22s 308us/step - loss: 1.9735 - accuracy: 0.5829 - val_loss: 1.8231 - val_accuracy: 0.6607\n",
      "Epoch 3/15\n",
      "70000/70000 [==============================] - 22s 307us/step - loss: 1.7749 - accuracy: 0.6751 - val_loss: 1.7501 - val_accuracy: 0.6788\n",
      "Epoch 4/15\n",
      "70000/70000 [==============================] - 21s 300us/step - loss: 1.6494 - accuracy: 0.7264 - val_loss: 1.5889 - val_accuracy: 0.7444\n",
      "Epoch 5/15\n",
      "70000/70000 [==============================] - 21s 303us/step - loss: 1.5561 - accuracy: 0.7632 - val_loss: 1.6847 - val_accuracy: 0.6919\n",
      "Epoch 6/15\n",
      "70000/70000 [==============================] - 25s 353us/step - loss: 1.5080 - accuracy: 0.7768 - val_loss: 1.5215 - val_accuracy: 0.7794\n",
      "Epoch 7/15\n",
      "70000/70000 [==============================] - 23s 322us/step - loss: 1.4816 - accuracy: 0.7794 - val_loss: 1.5090 - val_accuracy: 0.7776\n",
      "Epoch 8/15\n",
      "70000/70000 [==============================] - 20s 290us/step - loss: 1.4524 - accuracy: 0.7816 - val_loss: 1.4564 - val_accuracy: 0.7879\n",
      "Epoch 9/15\n",
      "70000/70000 [==============================] - 21s 297us/step - loss: 1.4490 - accuracy: 0.7815 - val_loss: 1.4708 - val_accuracy: 0.7857\n",
      "Epoch 10/15\n",
      "70000/70000 [==============================] - 24s 337us/step - loss: 1.4376 - accuracy: 0.7818 - val_loss: 1.4901 - val_accuracy: 0.7759\n",
      "Epoch 11/15\n",
      "70000/70000 [==============================] - 22s 316us/step - loss: 1.4369 - accuracy: 0.7819 - val_loss: 1.5603 - val_accuracy: 0.7598\n",
      "Epoch 12/15\n",
      "70000/70000 [==============================] - 24s 339us/step - loss: 1.4441 - accuracy: 0.7865 - val_loss: 1.5055 - val_accuracy: 0.7791\n",
      "Epoch 13/15\n",
      "70000/70000 [==============================] - 20s 280us/step - loss: 1.4511 - accuracy: 0.7892 - val_loss: 1.5106 - val_accuracy: 0.7854\n",
      "Epoch 14/15\n",
      "70000/70000 [==============================] - 22s 315us/step - loss: 1.4613 - accuracy: 0.7922 - val_loss: 1.5496 - val_accuracy: 0.7877\n",
      "Epoch 15/15\n",
      "70000/70000 [==============================] - 21s 296us/step - loss: 1.4697 - accuracy: 0.7927 - val_loss: 1.5235 - val_accuracy: 0.7930\n"
     ]
    }
   ],
   "source": [
    "lstm1_training = lstm1.fit(x_train, y_train, epochs=15, batch_size=256, validation_data=(x_test, y_test))"
   ]
  },
  {
   "cell_type": "markdown",
   "metadata": {},
   "source": [
    "The accuracy on training data is 0.7927.  \n",
    "Since I use (x_test,y_test) as validation data, the accuracy on test set is val_accuracy which is 0.7930"
   ]
  },
  {
   "cell_type": "code",
   "execution_count": 109,
   "metadata": {},
   "outputs": [
    {
     "data": {
      "image/png": "[encoded data removed]",
      "text/plain": [
       "<matplotlib.figure.Figure at 0x225eb1b0470>"
      ]
     },
     "metadata": {},
     "output_type": "display_data"
    }
   ],
   "source": [
    "plt.title('Loss')\n",
    "plt.plot(lstm1_training.history['loss'], label='train')\n",
    "plt.plot(lstm1_training.history['val_loss'], label='test')\n",
    "plt.legend()\n",
    "plt.show()"
   ]
  },
  {
   "cell_type": "code",
   "execution_count": 110,
   "metadata": {},
   "outputs": [
    {
     "name": "stdout",
     "output_type": "stream",
     "text": [
      "[[6.3006626e-04 2.6492802e-03 4.3148967e-03 2.3703929e-02 1.1027762e-03\n",
      "  5.4441992e-14 8.5183239e-01 1.5469665e-06 1.0258723e-01 2.9099410e-04\n",
      "  1.3014899e-05 3.4026481e-05 1.2114729e-02 1.1204552e-09 7.2516309e-04]]\n",
      "[0. 0. 0. 0. 0. 0. 1. 0. 0. 0. 0. 0. 0. 0. 0.]\n"
     ]
    }
   ],
   "source": [
    "prediction = lstm1.predict(np.array([x_test[500]]))\n",
    "label = y_test[500]\n",
    "print(prediction)\n",
    "print(label)"
   ]
  },
  {
   "cell_type": "markdown",
   "metadata": {},
   "source": [
    "#### LSTM with Binary CrossEntropy"
   ]
  },
  {
   "cell_type": "code",
   "execution_count": 112,
   "metadata": {},
   "outputs": [
    {
     "name": "stdout",
     "output_type": "stream",
     "text": [
      "Model: \"sequential_14\"\n",
      "_________________________________________________________________\n",
      "Layer (type)                 Output Shape              Param #   \n",
      "=================================================================\n",
      "embedding_11 (Embedding)     (None, None, 32)          160000    \n",
      "_________________________________________________________________\n",
      "lstm_12 (LSTM)               (None, 32)                8320      \n",
      "_________________________________________________________________\n",
      "dense_12 (Dense)             (None, 15)                495       \n",
      "=================================================================\n",
      "Total params: 168,815\n",
      "Trainable params: 168,815\n",
      "Non-trainable params: 0\n",
      "_________________________________________________________________\n"
     ]
    }
   ],
   "source": [
    "lstm2 = Sequential()\n",
    "lstm2.add(Embedding(max_features, 32))\n",
    "lstm2.add(LSTM(32))\n",
    "lstm2.add(Dense(15, activation ='sigmoid'))\n",
    "lstm2.compile(loss='binary_crossentropy', optimizer='rmsprop', metrics=['accuracy'])\n",
    "lstm2.summary()"
   ]
  },
  {
   "cell_type": "code",
   "execution_count": 113,
   "metadata": {},
   "outputs": [
    {
     "name": "stderr",
     "output_type": "stream",
     "text": [
      "C:\\Users\\SGAFPZ\\AppData\\Roaming\\Python\\Python36\\site-packages\\tensorflow_core\\python\\framework\\indexed_slices.py:424: UserWarning: Converting sparse IndexedSlices to a dense Tensor of unknown shape. This may consume a large amount of memory.\n",
      "  \"Converting sparse IndexedSlices to a dense Tensor of unknown shape. \"\n"
     ]
    },
    {
     "name": "stdout",
     "output_type": "stream",
     "text": [
      "Train on 70000 samples, validate on 7946 samples\n",
      "Epoch 1/15\n",
      "70000/70000 [==============================] - 25s 351us/step - loss: 0.2650 - accuracy: 0.8703 - val_loss: 0.2112 - val_accuracy: 0.8746\n",
      "Epoch 2/15\n",
      "70000/70000 [==============================] - 22s 314us/step - loss: 0.1923 - accuracy: 0.8818 - val_loss: 0.1671 - val_accuracy: 0.8908\n",
      "Epoch 3/15\n",
      "70000/70000 [==============================] - 22s 317us/step - loss: 0.1499 - accuracy: 0.8980 - val_loss: 0.1423 - val_accuracy: 0.8991\n",
      "Epoch 4/15\n",
      "70000/70000 [==============================] - 22s 308us/step - loss: 0.1237 - accuracy: 0.9072 - val_loss: 0.1162 - val_accuracy: 0.9092\n",
      "Epoch 5/15\n",
      "70000/70000 [==============================] - 22s 314us/step - loss: 0.1108 - accuracy: 0.9105 - val_loss: 0.1091 - val_accuracy: 0.9110\n",
      "Epoch 6/15\n",
      "70000/70000 [==============================] - 22s 316us/step - loss: 0.1041 - accuracy: 0.9121 - val_loss: 0.1038 - val_accuracy: 0.9122\n",
      "Epoch 7/15\n",
      "70000/70000 [==============================] - 22s 314us/step - loss: 0.1002 - accuracy: 0.9129 - val_loss: 0.1019 - val_accuracy: 0.9124\n",
      "Epoch 8/15\n",
      "70000/70000 [==============================] - 22s 315us/step - loss: 0.0975 - accuracy: 0.9135 - val_loss: 0.1025 - val_accuracy: 0.9121\n",
      "Epoch 9/15\n",
      "70000/70000 [==============================] - 22s 314us/step - loss: 0.0956 - accuracy: 0.9138 - val_loss: 0.0984 - val_accuracy: 0.9129\n",
      "Epoch 10/15\n",
      "70000/70000 [==============================] - 22s 314us/step - loss: 0.0940 - accuracy: 0.9141 - val_loss: 0.0987 - val_accuracy: 0.9127\n",
      "Epoch 11/15\n",
      "70000/70000 [==============================] - 23s 331us/step - loss: 0.0926 - accuracy: 0.9142 - val_loss: 0.0965 - val_accuracy: 0.9133\n",
      "Epoch 12/15\n",
      "70000/70000 [==============================] - 23s 329us/step - loss: 0.0914 - accuracy: 0.9144 - val_loss: 0.0964 - val_accuracy: 0.9134\n",
      "Epoch 13/15\n",
      "70000/70000 [==============================] - 22s 319us/step - loss: 0.0904 - accuracy: 0.9146 - val_loss: 0.0960 - val_accuracy: 0.9132\n",
      "Epoch 14/15\n",
      "70000/70000 [==============================] - 22s 317us/step - loss: 0.0895 - accuracy: 0.9148 - val_loss: 0.0953 - val_accuracy: 0.9137\n",
      "Epoch 15/15\n",
      "70000/70000 [==============================] - 22s 321us/step - loss: 0.0887 - accuracy: 0.9149 - val_loss: 0.0956 - val_accuracy: 0.9135\n"
     ]
    }
   ],
   "source": [
    "lstm2_training = lstm2.fit(x_train, y_train, epochs=15, batch_size=256, validation_data=(x_test, y_test))"
   ]
  },
  {
   "cell_type": "markdown",
   "metadata": {},
   "source": [
    "The accuracy on training data is 0.9149.  \n",
    "Since I use (x_test,y_test) as validation data, the accuracy on test set is val_accuracy which is 0.9135"
   ]
  },
  {
   "cell_type": "code",
   "execution_count": 114,
   "metadata": {},
   "outputs": [
    {
     "data": {
      "image/png": "[encoded data removed]",
      "text/plain": [
       "<matplotlib.figure.Figure at 0x225fd1744e0>"
      ]
     },
     "metadata": {},
     "output_type": "display_data"
    }
   ],
   "source": [
    "plt.title('Loss')\n",
    "plt.plot(lstm2_training.history['loss'], label='train')\n",
    "plt.plot(lstm2_training.history['val_loss'], label='test')\n",
    "plt.legend()\n",
    "plt.show()"
   ]
  },
  {
   "cell_type": "code",
   "execution_count": 115,
   "metadata": {
    "scrolled": true
   },
   "outputs": [
    {
     "name": "stdout",
     "output_type": "stream",
     "text": [
      "[[3.03635001e-03 1.01822615e-03 2.89872289e-03 1.58518255e-02\n",
      "  4.90039587e-04 1.05291605e-04 8.25511217e-01 1.87903643e-04\n",
      "  5.43180406e-02 2.25736923e-03 3.93590977e-04 3.14918091e-03\n",
      "  4.28390652e-02 1.00976824e-04 5.75349317e-04]]\n",
      "[0. 0. 0. 0. 0. 0. 1. 0. 0. 0. 0. 0. 0. 0. 0.]\n"
     ]
    }
   ],
   "source": [
    "prediction = lstm2.predict(np.array([x_test[500]]))\n",
    "label = y_test[500]\n",
    "print(prediction)\n",
    "print(label)"
   ]
  },
  {
   "cell_type": "markdown",
   "metadata": {},
   "source": [
    "According to the results, binary cross entropy is better in this case."
   ]
  },
  {
   "cell_type": "markdown",
   "metadata": {},
   "source": [
    "### 3.2 CNN"
   ]
  },
  {
   "cell_type": "markdown",
   "metadata": {},
   "source": [
    "split words into characters"
   ]
  },
  {
   "cell_type": "code",
   "execution_count": 129,
   "metadata": {},
   "outputs": [
    {
     "name": "stdout",
     "output_type": "stream",
     "text": [
      "['J', 'a', 'z', 'z', ' ', 'f', 'o', 'r', ' ', 'a', ' ', 'R', 'a', 'i', 'n', 'y', ' ', 'A', 'f', 't', 'e', 'r', 'n', 'o', 'o', 'n', ':', ' ', ' ', '{', 'l', 'i', 'n', 'k', '}'] 35\n"
     ]
    }
   ],
   "source": [
    "tweets = df['tweet'].values\n",
    "char_lists = []\n",
    "for tweet in tweets:\n",
    "    char_lists.append([char for char in tweet])\n",
    "print(char_lists[0], len(char_lists[0]))"
   ]
  },
  {
   "cell_type": "code",
   "execution_count": 130,
   "metadata": {},
   "outputs": [
    {
     "name": "stdout",
     "output_type": "stream",
     "text": [
      "[38, 7, 43, 43, 1, 20, 5, 9, 1, 7, 1, 9, 7, 6, 4, 17, 1, 7, 20, 3, 2, 9, 4, 5, 5, 4, 24, 1, 1, 33, 11, 6, 4, 22, 34] 35\n"
     ]
    }
   ],
   "source": [
    "tokenizer = Tokenizer(num_words=100, filters='!\"#$%&()*+,-./:;<=>?@[\\]^_`{|}~', lower=True)\n",
    "tokenizer.fit_on_texts(char_seqs)\n",
    "char_seqs = np.array(tokenizer.texts_to_sequences(char_lists))\n",
    "print(char_seqs[0], len(char_seqs[0]))"
   ]
  },
  {
   "cell_type": "code",
   "execution_count": 134,
   "metadata": {},
   "outputs": [
    {
     "name": "stdout",
     "output_type": "stream",
     "text": [
      "(77946, 180)\n"
     ]
    }
   ],
   "source": [
    "# ls = [len(s) for s in char_seqs]\n",
    "\n",
    "# m = 0\n",
    "# for s in char_seqs:\n",
    "#     for n in s:\n",
    "#         if n > m:\n",
    "#             m = n\n",
    "\n",
    "# print(max(ls), m)\n",
    "\n",
    "max_features = 100\n",
    "maxlen = 180\n",
    "\n",
    "data = pad_sequences(char_seqs, maxlen)\n",
    "print(data.shape)"
   ]
  },
  {
   "cell_type": "code",
   "execution_count": 137,
   "metadata": {},
   "outputs": [],
   "source": [
    "x_train = data[:70000]\n",
    "x_test = data[70000:]\n",
    "y_train = labels[:70000]\n",
    "y_test = labels[70000:]"
   ]
  },
  {
   "cell_type": "markdown",
   "metadata": {},
   "source": [
    "#### CNN with Categorical CrossEntropy"
   ]
  },
  {
   "cell_type": "code",
   "execution_count": 148,
   "metadata": {},
   "outputs": [],
   "source": [
    "cnn1 = Sequential()\n",
    "cnn1.add(Embedding(max_features, 32, input_length=maxlen))\n",
    "cnn1.add(Conv1D(256, 4, padding='same', activation='relu', strides=1))\n",
    "cnn1.add(BatchNormalization())\n",
    "cnn1.add(AveragePooling1D())\n",
    "cnn1.add(Dropout(0.5))\n",
    "cnn1.add(Flatten())\n",
    "cnn1.add(Dense(128, activation='relu'))\n",
    "cnn1.add(Dropout(0.5))\n",
    "cnn1.add(Dense(15, activation='softmax'))\n",
    "\n",
    "cnn1.compile(loss='categorical_crossentropy', optimizer='rmsprop', metrics=['accuracy'])"
   ]
  },
  {
   "cell_type": "code",
   "execution_count": 149,
   "metadata": {},
   "outputs": [
    {
     "name": "stderr",
     "output_type": "stream",
     "text": [
      "C:\\Users\\SGAFPZ\\AppData\\Roaming\\Python\\Python36\\site-packages\\tensorflow_core\\python\\framework\\indexed_slices.py:424: UserWarning: Converting sparse IndexedSlices to a dense Tensor of unknown shape. This may consume a large amount of memory.\n",
      "  \"Converting sparse IndexedSlices to a dense Tensor of unknown shape. \"\n"
     ]
    },
    {
     "name": "stdout",
     "output_type": "stream",
     "text": [
      "Train on 70000 samples, validate on 7946 samples\n",
      "Epoch 1/5\n",
      "70000/70000 [==============================] - 350s 5ms/step - loss: 310.9311 - accuracy: 0.1726 - val_loss: 416.5558 - val_accuracy: 0.2901\n",
      "Epoch 2/5\n",
      "70000/70000 [==============================] - 352s 5ms/step - loss: 963.7017 - accuracy: 0.1351 - val_loss: 727.0979 - val_accuracy: 0.0834\n",
      "Epoch 3/5\n",
      "70000/70000 [==============================] - 350s 5ms/step - loss: 1247.7127 - accuracy: 0.1332 - val_loss: 1947.0569 - val_accuracy: 0.0896\n",
      "Epoch 4/5\n",
      "70000/70000 [==============================] - 372s 5ms/step - loss: 2158.0652 - accuracy: 0.1340 - val_loss: 3001.0536 - val_accuracy: 0.0334\n",
      "Epoch 5/5\n",
      "70000/70000 [==============================] - 375s 5ms/step - loss: 3479.3180 - accuracy: 0.1345 - val_loss: 6101.1834 - val_accuracy: 0.1306\n"
     ]
    }
   ],
   "source": [
    "cnn1_training = cnn1.fit(x_train, y_train, epochs=5, batch_size=256, validation_data=(x_test, y_test))"
   ]
  },
  {
   "cell_type": "markdown",
   "metadata": {},
   "source": [
    "CNN with Categorical CrossEntropy has bad performance."
   ]
  },
  {
   "cell_type": "markdown",
   "metadata": {},
   "source": [
    "#### CNN with Binary CrossEntropy"
   ]
  },
  {
   "cell_type": "code",
   "execution_count": 150,
   "metadata": {},
   "outputs": [],
   "source": [
    "cnn2 = Sequential()\n",
    "cnn2.add(Embedding(max_features, 32, input_length=maxlen))\n",
    "cnn2.add(Conv1D(256, 4, padding='same', activation='relu', strides=1))\n",
    "cnn2.add(BatchNormalization())\n",
    "cnn2.add(AveragePooling1D())\n",
    "cnn2.add(Dropout(0.5))\n",
    "cnn2.add(Flatten())\n",
    "cnn2.add(Dense(128, activation='relu'))\n",
    "cnn2.add(Dropout(0.5))\n",
    "cnn2.add(Dense(15, activation='sigmoid'))\n",
    "\n",
    "cnn2.compile(loss='binary_crossentropy', optimizer='rmsprop', metrics=['accuracy'])"
   ]
  },
  {
   "cell_type": "code",
   "execution_count": 151,
   "metadata": {},
   "outputs": [
    {
     "name": "stderr",
     "output_type": "stream",
     "text": [
      "C:\\Users\\SGAFPZ\\AppData\\Roaming\\Python\\Python36\\site-packages\\tensorflow_core\\python\\framework\\indexed_slices.py:424: UserWarning: Converting sparse IndexedSlices to a dense Tensor of unknown shape. This may consume a large amount of memory.\n",
      "  \"Converting sparse IndexedSlices to a dense Tensor of unknown shape. \"\n"
     ]
    },
    {
     "name": "stdout",
     "output_type": "stream",
     "text": [
      "Train on 70000 samples, validate on 7946 samples\n",
      "Epoch 1/10\n",
      "70000/70000 [==============================] - 348s 5ms/step - loss: 0.2084 - accuracy: 0.8810 - val_loss: 0.2463 - val_accuracy: 0.8617\n",
      "Epoch 2/10\n",
      "70000/70000 [==============================] - 365s 5ms/step - loss: 0.1403 - accuracy: 0.9020 - val_loss: 0.1538 - val_accuracy: 0.8987\n",
      "Epoch 3/10\n",
      "70000/70000 [==============================] - 371s 5ms/step - loss: 0.1244 - accuracy: 0.9072 - val_loss: 0.1179 - val_accuracy: 0.9079\n",
      "Epoch 4/10\n",
      "70000/70000 [==============================] - 357s 5ms/step - loss: 0.1194 - accuracy: 0.9088 - val_loss: 0.1182 - val_accuracy: 0.9076\n",
      "Epoch 5/10\n",
      "70000/70000 [==============================] - 352s 5ms/step - loss: 0.1170 - accuracy: 0.9094 - val_loss: 0.1130 - val_accuracy: 0.9106\n",
      "Epoch 6/10\n",
      "70000/70000 [==============================] - 352s 5ms/step - loss: 0.1158 - accuracy: 0.9098 - val_loss: 0.1141 - val_accuracy: 0.9114\n",
      "Epoch 7/10\n",
      "70000/70000 [==============================] - 349s 5ms/step - loss: 0.1152 - accuracy: 0.9101 - val_loss: 0.1092 - val_accuracy: 0.9112\n",
      "Epoch 8/10\n",
      "70000/70000 [==============================] - 354s 5ms/step - loss: 0.1147 - accuracy: 0.9103 - val_loss: 0.1183 - val_accuracy: 0.9096\n",
      "Epoch 9/10\n",
      "70000/70000 [==============================] - 347s 5ms/step - loss: 0.1137 - accuracy: 0.9104 - val_loss: 0.1228 - val_accuracy: 0.9080\n",
      "Epoch 10/10\n",
      "70000/70000 [==============================] - 353s 5ms/step - loss: 0.1133 - accuracy: 0.9105 - val_loss: 0.1080 - val_accuracy: 0.9109\n"
     ]
    }
   ],
   "source": [
    "cnn2_training = cnn2.fit(x_train, y_train, epochs=10, batch_size=256, validation_data=(x_test, y_test))"
   ]
  },
  {
   "cell_type": "code",
   "execution_count": 152,
   "metadata": {},
   "outputs": [
    {
     "data": {
      "image/png": "[encoded data removed]",
      "text/plain": [
       "<matplotlib.figure.Figure at 0x225eb23aa20>"
      ]
     },
     "metadata": {},
     "output_type": "display_data"
    }
   ],
   "source": [
    "plt.title('Loss')\n",
    "plt.plot(cnn2_training.history['loss'], label='train')\n",
    "plt.plot(cnn2_training.history['val_loss'], label='test')\n",
    "plt.legend()\n",
    "plt.show()"
   ]
  },
  {
   "cell_type": "code",
   "execution_count": 158,
   "metadata": {},
   "outputs": [
    {
     "name": "stdout",
     "output_type": "stream",
     "text": [
      "6\n",
      "[0. 0. 0. 0. 0. 0. 1. 0. 0. 0. 0. 0. 0. 0. 0.]\n"
     ]
    }
   ],
   "source": [
    "pred = cnn2.predict_classes(x_test)\n",
    "print(pred[500])\n",
    "print(y_test[500])"
   ]
  },
  {
   "cell_type": "markdown",
   "metadata": {},
   "source": [
    "binary cross entropy has better performance."
   ]
  }
 ],
 "metadata": {
  "file_extension": ".py",
  "kernelspec": {
   "display_name": "Python 3",
   "language": "python",
   "name": "python3"
  },
  "language_info": {
   "codemirror_mode": {
    "name": "ipython",
    "version": 3
   },
   "file_extension": ".py",
   "mimetype": "text/x-python",
   "name": "python",
   "nbconvert_exporter": "python",
   "pygments_lexer": "ipython3",
   "version": "3.6.4"
  },
  "mimetype": "text/x-python",
  "name": "python",
  "npconvert_exporter": "python",
  "pygments_lexer": "ipython3",
  "version": 3
 },
 "nbformat": 4,
 "nbformat_minor": 2
}
